{
 "cells": [
  {
   "cell_type": "markdown",
   "id": "06e0e1d9",
   "metadata": {},
   "source": [
    "# Here is an Outline of my work:\n",
    "- Install and import libraries \n",
    "- Download and Parse the Best seller HTML page source code using resquest and Beautifulsoup to get item categories topics URL.\n",
    "- Repeat the above step for each item topic obtained using corresponding URL \n",
    "- Extract information from each pages and append in a Python Dictionaries.\n",
    "- Save the information data to corresponding CSV file Using Pandas library for each page.\n",
    "\n",
    "\n",
    "By the end of the project, we'll create a csv file in the following format:\n",
    "\n",
    "```\n",
    "Topic,Topic_url,Item_description,Rating out of 5,Minimum_price,Maximum_price,Review,Item Url\n",
    "Amazon Devices & Accessories,https://www.amazon.com/Best-Sellers/zgbs/amazon-devices/ref=zg_bs_nav_0/131-6756172-7735956,Fire TV Stick 4K streaming device with Alexa Voice Remote | Dolby Vision | 2018 release,4.7,39.9,0.0,615699,\"https://images-na.ssl-images-amazon.com/images/I/51CgKGfMelL._AC_UL200_SR200,200_.jpg\"\n",
    "Amazon Devices & Accessories,https://www.amazon.com/Best-Sellers/zgbs/amazon-devices/ref=zg_bs_nav_0/131-6756172-7735956,Fire TV Stick (3rd Gen) with Alexa Voice Remote (includes TV controls) | HD streaming device | 2021 release,4.7,39.9,0.0,1844,\"https://images-na.ssl-images-amazon.com/images/I/51KKR5uGn6L._AC_UL200_SR200,200_.jpg\"\n",
    "Amazon Devices & Accessories,https://www.amazon.com/Best-Sellers/zgbs/amazon-devices/ref=zg_bs_nav_0/131-6756172-7735956,\"Amazon Smart Plug, works with Alexa – A Certified for Humans Device\",4.7,24.9,0.0,425090,\"https://images-na.ssl-images-amazon.com/images/I/41uF7hO8FtL._AC_UL200_SR200,200_.jpg\"\n",
    "Amazon Devices & Accessories,https://www.amazon.com/Best-Sellers/zgbs/amazon-devices/ref=zg_bs_nav_0/131-6756172-7735956,Fire TV Stick Lite with Alexa Voice Remote Lite (no TV controls) | HD streaming device | 2020 release,4.7,29.9,0.0,151007,\"https://images-na.ssl-images-amazon.com/images/I/51Da2Z%2BFTFL._AC_UL200_SR200,200_.jpg\"\n",
    "\n",
    "```"
   ]
  },
  {
   "cell_type": "code",
   "execution_count": 1,
   "id": "08602aed",
   "metadata": {},
   "outputs": [],
   "source": [
    "import requests\n",
    "from bs4 import BeautifulSoup\n",
    "import pandas as pd\n",
    "import numpy as np\n",
    "import os"
   ]
  },
  {
   "cell_type": "code",
   "execution_count": 2,
   "id": "9ba1d518",
   "metadata": {},
   "outputs": [],
   "source": [
    "url =\"https://www.amazon.com/Best-Sellers/zgbs/ref=zg_bs_unv_ac_0_ac_1\"\n",
    "\n",
    "HEADERS ={\"User-Agent\":\"Mozilla/5.0 (Windows NT 10.0; Win64; x64; rv:66.0) Gecko/20100101 Firefox/66.0\", \"Accept-Encoding\":\"gzip, deflate\", \"Accept\":\"text/html,application/xhtml+xml,application/xml;q=0.9,*/*;q=0.8\", \"DNT\":\"1\",\"Connection\":\"close\", \"Upgrade-Insecure-Requests\":\"1\"}\n"
   ]
  },
  {
   "cell_type": "code",
   "execution_count": 3,
   "id": "5cca1831",
   "metadata": {},
   "outputs": [],
   "source": [
    "response = requests.get(url, headers=HEADERS)"
   ]
  },
  {
   "cell_type": "code",
   "execution_count": 4,
   "id": "00037093",
   "metadata": {},
   "outputs": [
    {
     "name": "stdout",
     "output_type": "stream",
     "text": [
      "<Response [200]>\n"
     ]
    }
   ],
   "source": [
    "print(response)"
   ]
  },
  {
   "cell_type": "code",
   "execution_count": 7,
   "id": "e7323377",
   "metadata": {},
   "outputs": [],
   "source": [
    "page_contents=response.text"
   ]
  },
  {
   "cell_type": "code",
   "execution_count": 9,
   "id": "17dbfdbe",
   "metadata": {},
   "outputs": [],
   "source": [
    "with open(\"bestseller_new.html\",\"w\",encoding='UTF-8') as f:\n",
    "    f.write(page_contents)"
   ]
  },
  {
   "cell_type": "markdown",
   "id": "dd8af7d7",
   "metadata": {},
   "source": [
    "## Use Beautiful Soup to parse and extract information\n",
    "\n",
    "-Parse and explore the structure of downloaded web pages using Beautiful soup.\n",
    "\n",
    "-Use the right properties and methods to extract the required information.\n",
    "\n",
    "-Create functions to extract from the page into lists and dictionaries.\n"
   ]
  },
  {
   "cell_type": "code",
   "execution_count": 10,
   "id": "9d834aa1",
   "metadata": {},
   "outputs": [],
   "source": [
    "content = BeautifulSoup(page_contents,\"html.parser\")"
   ]
  },
  {
   "cell_type": "markdown",
   "id": "513a6106",
   "metadata": {},
   "source": [
    "##### Getting information out of  a topic Page"
   ]
  },
  {
   "cell_type": "markdown",
   "id": "8cbb8b05",
   "metadata": {},
   "source": [
    "**scrape_products_pages() returns a Dataframe containing all the Departments of Best sellers descriptions and urls**"
   ]
  },
  {
   "cell_type": "code",
   "execution_count": 13,
   "id": "0f3a6c3c",
   "metadata": {},
   "outputs": [],
   "source": [
    "def scrape_products_pages():\n",
    "    items_url='https://www.amazon.com/Best-Sellers/zgbs/ref=zg_bs_unv_ac_0_ac_1'\n",
    "    response=requests.get(items_url,headers=HEADERS)\n",
    "    if response.status_code !=200:\n",
    "        raise Exception('Failed to load Page{}'.format(items_url))\n",
    "    items_dict={\n",
    "        'title':get_page_title(),\n",
    "        'url':get_page_urls()\n",
    "    }\n",
    "    return pd.DataFrame(items_dict)   "
   ]
  },
  {
   "cell_type": "markdown",
   "id": "3356737f",
   "metadata": {},
   "source": [
    "***get_page_title() and get_page_urls() gets the titles and urls of all the departments in best sellers,and these functions are called inside scrape_products_pages()***"
   ]
  },
  {
   "cell_type": "code",
   "execution_count": 18,
   "id": "c7028e8b",
   "metadata": {},
   "outputs": [],
   "source": [
    "def get_page_title():\n",
    "    selection_class='_p13n-zg-nav-tree-all_style_zg-browse-group__88fbz'\n",
    "    doc = content.find(\"div\",{\"class\":selection_class})\n",
    "    hearder_link_tags = doc.find_all('div',{'role':'treeitem'})\n",
    "\n",
    "    topic_titles=[]\n",
    "    for tag in hearder_link_tags:\n",
    "        topic_titles.append(tag.text.strip())\n",
    "    return topic_titles\n",
    "\n",
    "def get_page_urls():\n",
    "    selection_class_2='_p13n-zg-nav-tree-all_style_zg-browse-group__88fbz'\n",
    "    doc2 = content.find(\"div\",{\"class\":selection_class_2})\n",
    "    hearder_url_tags = doc2.find_all('a')  \n",
    "\n",
    "    topic_urls=[]\n",
    "    base_url='https://www.amazon.com/'\n",
    "    for tag in hearder_url_tags:\n",
    "        topic_urls.append(base_url+tag['href'])\n",
    "    return topic_urls"
   ]
  },
  {
   "cell_type": "markdown",
   "id": "50ad63f2",
   "metadata": {},
   "source": [
    "**scrape_products() is the function which begins scrapping all the departments and create a DATA folde which contains all the CSV file of each department**"
   ]
  },
  {
   "cell_type": "code",
   "execution_count": 24,
   "id": "ee9d2f7c",
   "metadata": {},
   "outputs": [],
   "source": [
    "\n",
    "def scrape_products():\n",
    "    print('Scrapping list of products')\n",
    "    items_df=scrape_products_pages()\n",
    "    os.makedirs('data',exist_ok=True)\n",
    "    for index,row in items_df.iterrows():\n",
    "        print('Scrapping Best Seller Departments for \"{}\"'.format(row['title']))\n",
    "        scrape_product(row['url'],'data/{}.csv'.format(row['title']))\n",
    "        "
   ]
  },
  {
   "cell_type": "code",
   "execution_count": 20,
   "id": "34ccb3f8",
   "metadata": {},
   "outputs": [],
   "source": [
    "def scrape_product(item_url,path):\n",
    "#     fname=topic_name + '.csv'\n",
    "    if os.path.exists(path):\n",
    "        print(\"The file {} already exists.Skipping.....\".format(path))\n",
    "        return \n",
    "    i_doc=get_item_page(item_url)\n",
    "    tags=get_page(i_doc)\n",
    "    Products_df=get_products_info(tags)\n",
    "    Products_df.to_csv(path,index=None)"
   ]
  },
  {
   "cell_type": "markdown",
   "id": "09b70005",
   "metadata": {},
   "source": [
    "#### get_item_page(item_url) takes url of each department and parse using BeautifulSoup and get_page(item_doc)extract the tags from the created Html"
   ]
  },
  {
   "cell_type": "code",
   "execution_count": 62,
   "id": "d406d99c",
   "metadata": {},
   "outputs": [],
   "source": [
    "\n",
    "def get_item_page(item_url):\n",
    "    response=requests.get(item_url,headers=HEADERS)\n",
    "    if response.status_code !=200:\n",
    "        raise Exception('Failed to load Page{}'.format(item_url))\n",
    "    item_doc=BeautifulSoup(response.text,'html.parser')\n",
    "    return item_doc\n",
    "def get_page(item_doc):\n",
    "   \n",
    "        s_class='p13n-gridRow _p13n-zg-list-grid-desktop_style_grid-row__3Cywl'\n",
    "        docu=item_doc.find('div',{'class':s_class})\n",
    "        p1_tags=docu.find_all('div',{'class','a-column a-span12 a-text-center _p13n-zg-list-grid-desktop_style_grid-column__2hIsc'})\n",
    "        return p1_tags\n",
    "    "
   ]
  },
  {
   "cell_type": "markdown",
   "id": "b0c608c1",
   "metadata": {},
   "source": [
    "**these functions take the tags of each department page and the serial number of products in particular department page**"
   ]
  },
  {
   "cell_type": "code",
   "execution_count": 50,
   "id": "86279194",
   "metadata": {},
   "outputs": [],
   "source": [
    "def get_item_url(p1_tags,doc):\n",
    "\n",
    "    base_url='https://www.amazon.com/'\n",
    "    pro_url=base_url + p1_tags[doc].find_all('a',attrs={'class','a-link-normal'})[0]['href']\n",
    "    return pro_url\n",
    "\n",
    "    \n",
    "def get_item_desc(p1_tags,doc):\n",
    "    pro_desc=p1_tags[doc].find_all('a',attrs={'class','a-link-normal'})[1].text.strip()\n",
    "    \n",
    "    return pro_desc\n",
    "    \n",
    "def get_item_reviews(p1_tags,doc):\n",
    "    review_tag=p1_tags[doc].find(\"span\",attrs={\"class\":'a-size-small',})\n",
    "    if review_tag==None:\n",
    "        review_tag=None\n",
    "    else:\n",
    "        review_tag=(review_tag.text.strip())\n",
    "    return review_tag\n",
    "\n",
    "def get_item_rating(p1_tags,doc):\n",
    "#     rating_tags = product_doc.find(\"span\",attrs={\"class\":'a-icon-alt',})\n",
    "    rating_tags = p1_tags[doc].find('span',{'class','a-icon-alt'})\n",
    "    if rating_tags==None:\n",
    "        rating_tags=None\n",
    "    else:\n",
    "        rating_tags=(rating_tags.text.strip())\n",
    "        \n",
    "    return rating_tags\n",
    "\n",
    "def get_item_price(p1_tags,doc):\n",
    "#     price_tag=''\n",
    "    price_tag_1=p1_tags[doc].find(\"span\",attrs={\"class\":'_p13n-zg-list-grid-desktop_price_p13n-sc-price__3mJ9Z'})\n",
    "    price_tag_2=p1_tags[doc].find(\"span\",attrs={\"class\":'p13n-sc-price'})\n",
    "    if(price_tag_1!=None):\n",
    "        price_tag=price_tag_1.text.strip()\n",
    "    elif(price_tag_2!=None):\n",
    "        price_tag=price_tag_2.text.strip()\n",
    "    else:\n",
    "        price_tag=None\n",
    "    \n",
    "    return price_tag"
   ]
  },
  {
   "cell_type": "code",
   "execution_count": null,
   "id": "31941400",
   "metadata": {},
   "outputs": [],
   "source": []
  },
  {
   "cell_type": "markdown",
   "id": "5fbf8fb5",
   "metadata": {},
   "source": [
    "**get_products_info(prod_tags) gets all the products info from each department and return a Dataframe of al the products of each department**"
   ]
  },
  {
   "cell_type": "code",
   "execution_count": 69,
   "id": "9960a879",
   "metadata": {},
   "outputs": [],
   "source": [
    "def get_products_info(prod_tags):\n",
    "    item_page_dict={\n",
    "        'Name':[],\n",
    "        'Reviews':[],\n",
    "        'Ratings':[],\n",
    "        'Price':[],\n",
    "        'Url':[],\n",
    "    }\n",
    "    try:\n",
    "        for item in range(len(prod_tags)):\n",
    "            item_page_dict['Name'].append(get_item_desc(prod_tags,item))\n",
    "            item_page_dict['Reviews'].append(get_item_reviews(prod_tags,item))\n",
    "            item_page_dict['Ratings'].append(get_item_rating(prod_tags,item))\n",
    "            item_page_dict['Price'].append(get_item_price(prod_tags,item))\n",
    "            item_page_dict['Url'].append(get_item_url(prod_tags,item))\n",
    "    except:\n",
    "        pass\n",
    "        \n",
    "    return pd.DataFrame(item_page_dict)"
   ]
  },
  {
   "cell_type": "code",
   "execution_count": 70,
   "id": "6d060dfd",
   "metadata": {},
   "outputs": [
    {
     "name": "stdout",
     "output_type": "stream",
     "text": [
      "Scrapping list of products\n",
      "Scrapping Best Seller Departments for \"Amazon Devices & Accessories\"\n",
      "The file data/Amazon Devices & Accessories.csv already exists.Skipping.....\n",
      "Scrapping Best Seller Departments for \"Amazon Explore\"\n",
      "The file data/Amazon Explore.csv already exists.Skipping.....\n",
      "Scrapping Best Seller Departments for \"Amazon Launchpad\"\n",
      "The file data/Amazon Launchpad.csv already exists.Skipping.....\n",
      "Scrapping Best Seller Departments for \"Appliances\"\n",
      "The file data/Appliances.csv already exists.Skipping.....\n",
      "Scrapping Best Seller Departments for \"Apps & Games\"\n",
      "The file data/Apps & Games.csv already exists.Skipping.....\n",
      "Scrapping Best Seller Departments for \"Arts, Crafts & Sewing\"\n",
      "The file data/Arts, Crafts & Sewing.csv already exists.Skipping.....\n",
      "Scrapping Best Seller Departments for \"Audible Books & Originals\"\n",
      "The file data/Audible Books & Originals.csv already exists.Skipping.....\n",
      "Scrapping Best Seller Departments for \"Automotive\"\n",
      "The file data/Automotive.csv already exists.Skipping.....\n",
      "Scrapping Best Seller Departments for \"Baby\"\n",
      "The file data/Baby.csv already exists.Skipping.....\n",
      "Scrapping Best Seller Departments for \"Beauty & Personal Care\"\n",
      "The file data/Beauty & Personal Care.csv already exists.Skipping.....\n",
      "Scrapping Best Seller Departments for \"Books\"\n",
      "The file data/Books.csv already exists.Skipping.....\n",
      "Scrapping Best Seller Departments for \"Camera & Photo Products\"\n",
      "The file data/Camera & Photo Products.csv already exists.Skipping.....\n",
      "Scrapping Best Seller Departments for \"CDs & Vinyl\"\n",
      "The file data/CDs & Vinyl.csv already exists.Skipping.....\n",
      "Scrapping Best Seller Departments for \"Cell Phones & Accessories\"\n",
      "The file data/Cell Phones & Accessories.csv already exists.Skipping.....\n",
      "Scrapping Best Seller Departments for \"Clothing, Shoes & Jewelry\"\n",
      "The file data/Clothing, Shoes & Jewelry.csv already exists.Skipping.....\n",
      "Scrapping Best Seller Departments for \"Collectible Coins\"\n",
      "The file data/Collectible Coins.csv already exists.Skipping.....\n",
      "Scrapping Best Seller Departments for \"Computers & Accessories\"\n",
      "The file data/Computers & Accessories.csv already exists.Skipping.....\n",
      "Scrapping Best Seller Departments for \"Digital Educational Resources\"\n",
      "The file data/Digital Educational Resources.csv already exists.Skipping.....\n",
      "Scrapping Best Seller Departments for \"Digital Music\"\n",
      "The file data/Digital Music.csv already exists.Skipping.....\n",
      "Scrapping Best Seller Departments for \"Electronics\"\n",
      "Scrapping Best Seller Departments for \"Entertainment Collectibles\"\n",
      "Scrapping Best Seller Departments for \"Gift Cards\"\n",
      "Scrapping Best Seller Departments for \"Grocery & Gourmet Food\"\n",
      "Scrapping Best Seller Departments for \"Handmade Products\"\n",
      "Scrapping Best Seller Departments for \"Health & Household\"\n",
      "Scrapping Best Seller Departments for \"Home & Kitchen\"\n",
      "Scrapping Best Seller Departments for \"Industrial & Scientific\"\n",
      "Scrapping Best Seller Departments for \"Kindle Store\"\n",
      "Scrapping Best Seller Departments for \"Kitchen & Dining\"\n",
      "Scrapping Best Seller Departments for \"Magazine Subscriptions\"\n",
      "Scrapping Best Seller Departments for \"Movies & TV\"\n",
      "Scrapping Best Seller Departments for \"Musical Instruments\"\n",
      "Scrapping Best Seller Departments for \"Office Products\"\n",
      "Scrapping Best Seller Departments for \"Patio, Lawn & Garden\"\n",
      "Scrapping Best Seller Departments for \"Pet Supplies\"\n",
      "Scrapping Best Seller Departments for \"Software\"\n",
      "Scrapping Best Seller Departments for \"Sports & Outdoors\"\n",
      "Scrapping Best Seller Departments for \"Sports Collectibles\"\n",
      "Scrapping Best Seller Departments for \"Tools & Home Improvement\"\n",
      "Scrapping Best Seller Departments for \"Toys & Games\"\n",
      "Scrapping Best Seller Departments for \"Video Games\"\n"
     ]
    }
   ],
   "source": [
    "scrape_products()"
   ]
  },
  {
   "cell_type": "code",
   "execution_count": null,
   "id": "c7b9dbb1",
   "metadata": {},
   "outputs": [],
   "source": []
  }
 ],
 "metadata": {
  "kernelspec": {
   "display_name": "Python 3 (ipykernel)",
   "language": "python",
   "name": "python3"
  },
  "language_info": {
   "codemirror_mode": {
    "name": "ipython",
    "version": 3
   },
   "file_extension": ".py",
   "mimetype": "text/x-python",
   "name": "python",
   "nbconvert_exporter": "python",
   "pygments_lexer": "ipython3",
   "version": "3.10.1"
  }
 },
 "nbformat": 4,
 "nbformat_minor": 5
}
